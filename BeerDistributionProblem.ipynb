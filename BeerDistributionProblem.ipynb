{
 "cells": [
  {
   "cell_type": "code",
   "execution_count": 4,
   "metadata": {},
   "outputs": [
    {
     "name": "stdout",
     "output_type": "stream",
     "text": [
      "Status: Optimal\n",
      "Route_A_1 = 300.0\n",
      "Route_A_2 = 0.0\n",
      "Route_A_3 = 0.0\n",
      "Route_A_4 = 0.0\n",
      "Route_A_5 = 700.0\n",
      "Route_B_1 = 200.0\n",
      "Route_B_2 = 900.0\n",
      "Route_B_3 = 1800.0\n",
      "Route_B_4 = 200.0\n",
      "Route_B_5 = 0.0\n",
      "Total Cost of Transportation =  8600.0\n"
     ]
    }
   ],
   "source": [
    "\"\"\"\n",
    "The Beer Distribution Problem for the PuLP Modeller\n",
    "Authors: Antony Phillips, Dr Stuart Mitchell  2007\n",
    "\"\"\"\n",
    "\n",
    "# Import PuLP modeler functions\n",
    "from pulp import *\n",
    "\n",
    "# Creates a list of all the supply nodes\n",
    "Warehouses = [\"A\", \"B\"]\n",
    "\n",
    "# Creates a dictionary for the number of units of supply for each supply node\n",
    "supply = {\"A\": 1000,\n",
    "          \"B\": 4000}\n",
    "\n",
    "# Creates a list of all demand nodes\n",
    "Bars = [\"1\", \"2\", \"3\", \"4\", \"5\"]\n",
    "\n",
    "# Creates a dictionary for the number of units of demand for each demand node\n",
    "demand = {\"1\":500,\n",
    "          \"2\":900,\n",
    "          \"3\":1800,\n",
    "          \"4\":200,\n",
    "          \"5\":700,}\n",
    "\n",
    "# Creates a list of costs of each transportation path\n",
    "costs = [   #Bars\n",
    "         #1 2 3 4 5\n",
    "         [2,4,5,2,1],#A   Warehouses\n",
    "         [3,1,3,2,3] #B\n",
    "         ]\n",
    "\n",
    "# The cost data is made into a dictionary\n",
    "costs = makeDict([Warehouses,Bars],costs,0)\n",
    "\n",
    "# Creates the 'prob' variable to contain the problem data\n",
    "prob = LpProblem(\"Beer Distribution Problem\",LpMinimize)\n",
    "\n",
    "# Creates a list of tuples containing all the possible routes for transport\n",
    "Routes = [(w,b) for w in Warehouses for b in Bars]\n",
    "\n",
    "# A dictionary called 'Vars' is created to contain the referenced variables(the routes)\n",
    "vars = LpVariable.dicts(\"Route\",(Warehouses,Bars),0,None,LpInteger)\n",
    "\n",
    "# The objective function is added to 'prob' first\n",
    "prob += lpSum([vars[w][b]*costs[w][b] for (w,b) in Routes]), \"Sum_of_Transporting_Costs\"\n",
    "\n",
    "# The supply maximum constraints are added to prob for each supply node (warehouse)\n",
    "for w in Warehouses:\n",
    "    prob += lpSum([vars[w][b] for b in Bars])<=supply[w], \"Sum_of_Products_out_of_Warehouse_%s\"%w\n",
    "\n",
    "# The demand minimum constraints are added to prob for each demand node (bar)\n",
    "for b in Bars:\n",
    "    prob += lpSum([vars[w][b] for w in Warehouses])>=demand[b], \"Sum_of_Products_into_Bar%s\"%b\n",
    "                   \n",
    "# The problem data is written to an .lp file\n",
    "prob.writeLP(\"BeerDistributionProblem.lp\")\n",
    "\n",
    "# The problem is solved using PuLP's choice of Solver\n",
    "prob.solve()\n",
    "\n",
    "# The status of the solution is printed to the screen\n",
    "print(\"Status:\", LpStatus[prob.status])\n",
    "\n",
    "# Each of the variables is printed with it's resolved optimum value\n",
    "for v in prob.variables():\n",
    "    print(v.name, \"=\", v.varValue)\n",
    "\n",
    "# The optimised objective function value is printed to the screen    \n",
    "print(\"Total Cost of Transportation = \", value(prob.objective))"
   ]
  },
  {
   "cell_type": "code",
   "execution_count": null,
   "metadata": {},
   "outputs": [],
   "source": []
  }
 ],
 "metadata": {
  "kernelspec": {
   "display_name": "pulp",
   "language": "python",
   "name": "pulp"
  },
  "language_info": {
   "codemirror_mode": {
    "name": "ipython",
    "version": 3
   },
   "file_extension": ".py",
   "mimetype": "text/x-python",
   "name": "python",
   "nbconvert_exporter": "python",
   "pygments_lexer": "ipython3",
   "version": "3.8.5"
  }
 },
 "nbformat": 4,
 "nbformat_minor": 4
}
