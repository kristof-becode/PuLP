{
 "cells": [
  {
   "cell_type": "markdown",
   "metadata": {},
   "source": [
    "### Muli-Objective Linear Programming"
   ]
  },
  {
   "cell_type": "markdown",
   "metadata": {},
   "source": [
    "From: http://www.supplychaindataanalytics.com/multi-objective-linear-optimization-with-pulp-in-python/"
   ]
  },
  {
   "cell_type": "markdown",
   "metadata": {},
   "source": [
    "A multi-objective linear optimization problem is a linear optimization problem with more than just one objective function. This area of linear programming is also referred to as multi-objective linear programming or multi-goal linear programming.\n",
    "\n",
    "Below an examplaric multi-objective linear optimization problem with two objective functions: \n",
    "\n",
    "![title](img/multi-objective-linear-problem-PULP.jpg)\n",
    "\n",
    "Assuming that in above problem statement the two objective functions represent two different goals, such as e.g. service level and profit margin of some product portfolio, I test two alternative approaches for solving this problem.\n",
    "\n",
    "The first approach will be to solve for one of the objectives, then fix the problem at the optimal outcome of that first problem by adding an additional constraint to a second optimization run where I will then maximize the second objective function (subject to the constraint of keeping the optimal objective value to the first sub-problem).\n",
    "\n",
    "The second approach will be to add the two objectives together, i.e. to merge them into one objective function by applying weights. By sampling the weights and solving the combined problem for each sampled weight the optimal outcome can be reviewed in dependency of the weights."
   ]
  },
  {
   "cell_type": "markdown",
   "metadata": {},
   "source": [
    "### Approach 1: Maximizing for one objective, then adding it as a constraint and solving for the other objective\n",
    "\n",
    "Using PuLP I maximize the first objective first, then I add that objective function as a constraint to the original problem and maximize the second objective subject to all constraints, including that additional constraint.\n",
    "\n",
    "In mathematical syntax, the problem we solve first can be stated as follows: \n",
    "\n",
    "![title](img/multiobjective-object-1-PULP.jpg)"
   ]
  },
  {
   "cell_type": "code",
   "execution_count": 1,
   "metadata": {},
   "outputs": [
    {
     "name": "stdout",
     "output_type": "stream",
     "text": [
      "Optimal ; max value = 30.0 ; x1_opt = 0.0 ; x2_opt = 10.0\n"
     ]
    },
    {
     "name": "stderr",
     "output_type": "stream",
     "text": [
      "/home/becode/AI/pulp/pulp/lib/python3.8/site-packages/pulp/pulp.py:1198: UserWarning: Spaces are not permitted in the name. Converted to '_'\n",
      "  warnings.warn(\"Spaces are not permitted in the name. Converted to '_'\")\n"
     ]
    }
   ],
   "source": [
    "# first, import PuLP\n",
    "import pulp\n",
    "\n",
    "# then, conduct initial declaration of problem\n",
    "linearProblem = pulp.LpProblem(\"Maximizing for first objective\",pulp.LpMaximize)\n",
    "\n",
    "# delcare optimization variables, using PuLP\n",
    "x1 = pulp.LpVariable(\"x1\",lowBound = 0) \n",
    "x2 = pulp.LpVariable(\"x2\",lowBound = 0) \n",
    "\n",
    "# add (first) objective function to the linear problem statement\n",
    "linearProblem += 2*x1 + 3*x2 \n",
    "\n",
    "# add the constraints to the problem\n",
    "linearProblem += x1 + x2 <= 10\n",
    "linearProblem += 2*x1 + x2 <= 15\n",
    "\n",
    "# solve with default solver, maximizing the first objective\n",
    "solution = linearProblem.solve()\n",
    "\n",
    "# output information if optimum was found, what the maximal objective value is and what the optimal point is\n",
    "print(str(pulp.LpStatus[solution])+\" ; max value = \"+str(pulp.value(linearProblem.objective))+\n",
    "      \" ; x1_opt = \"+str(pulp.value(x1))+\n",
    "      \" ; x2_opt = \"+str(pulp.value(x2)))\n"
   ]
  },
  {
   "cell_type": "markdown",
   "metadata": {},
   "source": [
    "Now, I re-state the original problem such that the second objective function is maximized subject to an additional constraint. That additional constraint requests that the first objective must be at least 30. Using mathematical syntax the problem I now solve can be stated as follows: \n",
    "\n",
    "![title](img/multiobjective-objective-2-PULP.jpg)"
   ]
  },
  {
   "cell_type": "code",
   "execution_count": 2,
   "metadata": {},
   "outputs": [
    {
     "data": {
      "text/plain": [
       "Maximize_second_objective:\n",
       "MAXIMIZE\n",
       "4*x1 + -2*x2 + 0\n",
       "SUBJECT TO\n",
       "_C1: x1 + x2 <= 10\n",
       "\n",
       "_C2: 2 x1 + x2 <= 15\n",
       "\n",
       "_C3: 2 x1 + 3 x2 >= 30\n",
       "\n",
       "VARIABLES\n",
       "x1 Continuous\n",
       "x2 Continuous"
      ]
     },
     "execution_count": 2,
     "metadata": {},
     "output_type": "execute_result"
    }
   ],
   "source": [
    "# remodel the problem statement\n",
    "linearProblem = pulp.LpProblem(\"Maximize second objective\",pulp.LpMaximize)\n",
    "linearProblem += 4*x1 - 2*x2\n",
    "linearProblem += x1 + x2 <= 10\n",
    "linearProblem += 2*x1 + x2 <= 15\n",
    "linearProblem += 2*x1 + 3*x2 >= 30\n",
    "\n",
    "# review problem statement after remodelling\n",
    "linearProblem"
   ]
  },
  {
   "cell_type": "markdown",
   "metadata": {},
   "source": [
    "Now, I solve this problem, using the default solver in PuLP:"
   ]
  },
  {
   "cell_type": "code",
   "execution_count": 3,
   "metadata": {},
   "outputs": [
    {
     "name": "stdout",
     "output_type": "stream",
     "text": [
      "Optimal ; max value = -19.999999999995993 ; x1_opt = 1.0018653e-12 ; x2_opt = 10.0\n"
     ]
    }
   ],
   "source": [
    "# apply default solver\n",
    "solution = linearProblem.solve()\n",
    "\n",
    "# output a string summarizing whether optimum was found, and if so what the optimal solution \n",
    "print(str(pulp.LpStatus[solution])+\" ; max value = \"+str(pulp.value(linearProblem.objective))+\n",
    "      \" ; x1_opt = \"+str(pulp.value(x1))+\n",
    "      \" ; x2_opt = \"+str(pulp.value(x2)))\n"
   ]
  },
  {
   "cell_type": "markdown",
   "metadata": {},
   "source": [
    "This approach suggests that x1 = 0 and x2 = 10 is the the optimal solution. The optimal objective values would be 30 for objective one, and -20 for objective two."
   ]
  },
  {
   "cell_type": "markdown",
   "metadata": {},
   "source": [
    "### Approach 2: Combine objectives, using sampled weights and iterations with defined step-size\n",
    "\n",
    "When applying this approach, we will restate the original problem as follows: \n",
    "    \n",
    "![title](img/multiobjective-combined-objective-PULP.jpg)"
   ]
  },
  {
   "cell_type": "markdown",
   "metadata": {},
   "source": [
    "The question now is how to choose α.\n",
    "\n",
    "A typical approach in a situation like this is to identify an efficient frontier. In economics this is e.g. known as “pareto optimality”. To construct such an approach I sample alpha in steps of 0.01. For each value of alpha I restate the problem, using PuLP – and solve it.\n",
    "\n",
    "I store my results in a list and visualize the outcome using matplotlib.pyplot:"
   ]
  },
  {
   "cell_type": "code",
   "execution_count": 4,
   "metadata": {},
   "outputs": [
    {
     "name": "stderr",
     "output_type": "stream",
     "text": [
      "/home/becode/AI/pulp/pulp/lib/python3.8/site-packages/pulp/pulp.py:1198: UserWarning: Spaces are not permitted in the name. Converted to '_'\n",
      "  warnings.warn(\"Spaces are not permitted in the name. Converted to '_'\")\n"
     ]
    },
    {
     "data": {
      "image/png": "[encoded data removed]",
      "text/plain": [
       "<Figure size 1440x720 with 1 Axes>"
      ]
     },
     "metadata": {
      "needs_background": "light"
     },
     "output_type": "display_data"
    }
   ],
   "source": [
    "# import matplotlib.pyplot\n",
    "import matplotlib.pyplot as plt \n",
    "\n",
    "# import pandas and numpy for being able to store data in DataFrame format\n",
    "import numpy as np\n",
    "import pandas as pd\n",
    "\n",
    "# define step-size\n",
    "stepSize = 0.01\n",
    "\n",
    "# initialize empty DataFrame for storing optimization outcomes\n",
    "solutionTable = pd.DataFrame(columns=[\"alpha\",\"x1_opt\",\"x2_opt\",\"obj_value\"])\n",
    "\n",
    "# iterate through alpha values from 0 to 1 with stepSize, and write PuLP solutions into solutionTable\n",
    "for i in range(0,101,int(stepSize*100)):\n",
    "        # declare the problem again\n",
    "        linearProblem = pulp.LpProblem(\"Multi-objective linear maximization\",pulp.LpMaximize)\n",
    "        # add the objective function at sampled alpha\n",
    "        linearProblem += (i/100)*(2*x1+3*x2)+(1-i/100)*(4*x1-2*x2)\n",
    "        # add the constraints\n",
    "        linearProblem += x1 + x2 <= 10\n",
    "        linearProblem += 2*x1 + x2 <= 15\n",
    "        # solve the problem \n",
    "        solution = linearProblem.solve()\n",
    "        # write solutions into DataFrame\n",
    "        solutionTable.loc[int(i/(stepSize*100))] = [i/100,\n",
    "                                                     pulp.value(x1),\n",
    "                                                     pulp.value(x2),\n",
    "                                                     pulp.value(linearProblem.objective)]\n",
    "\n",
    "# visualize optimization outcome, using matplotlib.pyplot\n",
    "# -- set figure size\n",
    "plt.figure(figsize=(20,10))\n",
    "# -- create line plot\n",
    "plt.plot(solutionTable[\"alpha\"],solutionTable[\"obj_value\"],color=\"red\")\n",
    "# -- add axis labels\n",
    "plt.xlabel(\"alpha\",size=20)\n",
    "plt.ylabel(\"obj_value\",size=20)\n",
    "# -- add plot title\n",
    "plt.title(\"Optimal combined objective function value as a function of alpha\",size=32)\n",
    "# -- show plot\n",
    "plt.show()\n"
   ]
  },
  {
   "cell_type": "code",
   "execution_count": 5,
   "metadata": {},
   "outputs": [
    {
     "data": {
      "text/html": [
       "<div>\n",
       "<style scoped>\n",
       "    .dataframe tbody tr th:only-of-type {\n",
       "        vertical-align: middle;\n",
       "    }\n",
       "\n",
       "    .dataframe tbody tr th {\n",
       "        vertical-align: top;\n",
       "    }\n",
       "\n",
       "    .dataframe thead th {\n",
       "        text-align: right;\n",
       "    }\n",
       "</style>\n",
       "<table border=\"1\" class=\"dataframe\">\n",
       "  <thead>\n",
       "    <tr style=\"text-align: right;\">\n",
       "      <th></th>\n",
       "      <th>alpha</th>\n",
       "      <th>x1_opt</th>\n",
       "      <th>x2_opt</th>\n",
       "      <th>obj_value</th>\n",
       "    </tr>\n",
       "  </thead>\n",
       "  <tbody>\n",
       "    <tr>\n",
       "      <th>0</th>\n",
       "      <td>0.00</td>\n",
       "      <td>7.5</td>\n",
       "      <td>0.0</td>\n",
       "      <td>30.00</td>\n",
       "    </tr>\n",
       "    <tr>\n",
       "      <th>1</th>\n",
       "      <td>0.01</td>\n",
       "      <td>7.5</td>\n",
       "      <td>0.0</td>\n",
       "      <td>29.85</td>\n",
       "    </tr>\n",
       "    <tr>\n",
       "      <th>2</th>\n",
       "      <td>0.02</td>\n",
       "      <td>7.5</td>\n",
       "      <td>0.0</td>\n",
       "      <td>29.70</td>\n",
       "    </tr>\n",
       "    <tr>\n",
       "      <th>3</th>\n",
       "      <td>0.03</td>\n",
       "      <td>7.5</td>\n",
       "      <td>0.0</td>\n",
       "      <td>29.55</td>\n",
       "    </tr>\n",
       "    <tr>\n",
       "      <th>4</th>\n",
       "      <td>0.04</td>\n",
       "      <td>7.5</td>\n",
       "      <td>0.0</td>\n",
       "      <td>29.40</td>\n",
       "    </tr>\n",
       "  </tbody>\n",
       "</table>\n",
       "</div>"
      ],
      "text/plain": [
       "   alpha  x1_opt  x2_opt  obj_value\n",
       "0   0.00     7.5     0.0      30.00\n",
       "1   0.01     7.5     0.0      29.85\n",
       "2   0.02     7.5     0.0      29.70\n",
       "3   0.03     7.5     0.0      29.55\n",
       "4   0.04     7.5     0.0      29.40"
      ]
     },
     "execution_count": 5,
     "metadata": {},
     "output_type": "execute_result"
    }
   ],
   "source": [
    "solutionTable.head()"
   ]
  },
  {
   "cell_type": "code",
   "execution_count": null,
   "metadata": {},
   "outputs": [],
   "source": []
  }
 ],
 "metadata": {
  "kernelspec": {
   "display_name": "pulp",
   "language": "python",
   "name": "pulp"
  },
  "language_info": {
   "codemirror_mode": {
    "name": "ipython",
    "version": 3
   },
   "file_extension": ".py",
   "mimetype": "text/x-python",
   "name": "python",
   "nbconvert_exporter": "python",
   "pygments_lexer": "ipython3",
   "version": "3.8.5"
  }
 },
 "nbformat": 4,
 "nbformat_minor": 4
}
